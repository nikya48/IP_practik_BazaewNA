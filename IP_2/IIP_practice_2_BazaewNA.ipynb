{
 "cells": [
  {
   "cell_type": "code",
   "execution_count": 13,
   "id": "8e1ed759-4c9b-4c96-ad11-069408e6e66e",
   "metadata": {},
   "outputs": [
    {
     "name": "stdout",
     "output_type": "stream",
     "text": [
      "Best k: 5, Best accuracy: 0.12612612612612611\n",
      "              precision    recall  f1-score   support\n",
      "\n",
      "           0       0.15      0.20      0.17        15\n",
      "           1       0.33      0.31      0.32        13\n",
      "           2       0.11      0.33      0.17         6\n",
      "           3       0.06      0.14      0.09         7\n",
      "           4       0.20      0.09      0.12        11\n",
      "           5       0.11      0.09      0.10        11\n",
      "           6       0.00      0.00      0.00         8\n",
      "           7       0.00      0.00      0.00        15\n",
      "           8       0.09      0.08      0.09        12\n",
      "           9       0.20      0.08      0.11        13\n",
      "\n",
      "    accuracy                           0.13       111\n",
      "   macro avg       0.13      0.13      0.12       111\n",
      "weighted avg       0.13      0.13      0.12       111\n",
      "\n",
      "Test sequence: 74\n",
      "Recognized sequence: 6122\n"
     ]
    },
    {
     "data": {
      "image/png": "[encoded data removed]",
      "text/plain": [
       "<Figure size 1000x500 with 4 Axes>"
      ]
     },
     "metadata": {},
     "output_type": "display_data"
    }
   ],
   "source": [
    "import matplotlib.pyplot as plt\n",
    "import numpy as np\n",
    "from sklearn import datasets, metrics, svm\n",
    "from sklearn.model_selection import train_test_split\n",
    "from sklearn.neighbors import KNeighborsClassifier\n",
    "from sklearn.metrics import confusion_matrix, accuracy_score, classification_report\n",
    "\n",
    "digits = datasets.load_digits()\n",
    "\n",
    "def generate_sequence(length, charset, image_size=(8,8)):\n",
    "    sequence = ''.join(np.random.choice(list(charset), length))\n",
    "    images = []\n",
    "    for char in sequence:\n",
    "        index = np.random.randint(len(digits.images))\n",
    "        image = digits.images[index].reshape(image_size)\n",
    "        images.append(image)\n",
    "    return sequence, images\n",
    "\n",
    "charset = '0123456789'\n",
    "\n",
    "train_sequences = []\n",
    "train_images = []\n",
    "test_sequences = []\n",
    "test_images = []\n",
    "\n",
    "num_train = 100\n",
    "num_test = 50\n",
    "\n",
    "for i in range(num_train):\n",
    "    seq, imgs = generate_sequence(np.random.randint(1, 5), charset)\n",
    "    train_sequences.append(seq)\n",
    "    train_images.extend(imgs)\n",
    "\n",
    "for i in range(num_test):\n",
    "    seq, imgs = generate_sequence(np.random.randint(1, 5), charset)\n",
    "    test_sequences.append(seq)\n",
    "    test_images.extend(imgs)\n",
    "\n",
    "train_data = np.array([img.reshape(-1) for img in train_images])\n",
    "test_data = np.array([img.reshape(-1) for img in test_images])\n",
    "\n",
    "train_labels = ''.join(train_sequences)\n",
    "test_labels = ''.join(test_sequences)\n",
    "\n",
    "best_k = 1\n",
    "best_accuracy = 0\n",
    "\n",
    "for k in range(1, 11):\n",
    "    classifier = KNeighborsClassifier(n_neighbors=k)\n",
    "    classifier.fit(train_data, list(train_labels))\n",
    "    y_pred = classifier.predict(test_data)\n",
    "    accuracy = accuracy_score(list(test_labels), y_pred)\n",
    "    if accuracy > best_accuracy:\n",
    "        best_accuracy = accuracy\n",
    "        best_k = k\n",
    "\n",
    "print(f\"Best k: {best_k}, Best accuracy: {best_accuracy}\")\n",
    "\n",
    "classifier = KNeighborsClassifier(n_neighbors=best_k)\n",
    "classifier.fit(train_data, list(train_labels))\n",
    "y_pred = classifier.predict(test_data)\n",
    "\n",
    "print(classification_report(list(test_labels), y_pred))\n",
    "\n",
    "def recognize_sequence(sequence_images, classifier):\n",
    "    recognized_sequence = \"\"\n",
    "    for img in sequence_images:\n",
    "      img = img.reshape(1,-1)\n",
    "      predicted_char = classifier.predict(img)[0]\n",
    "      recognized_sequence += predicted_char\n",
    "    return recognized_sequence\n",
    "\n",
    "test_index = 0\n",
    "recognized = recognize_sequence(test_images[test_index * 4: (test_index + 1) * 4 ], classifier)\n",
    "print(f\"Test sequence: {test_sequences[test_index]}\")\n",
    "print(f\"Recognized sequence: {recognized}\")\n",
    "\n",
    "fig, axes = plt.subplots(1, len(test_images[test_index*4: (test_index + 1) * 4 ]), figsize=(10, 5))\n",
    "for i, image in enumerate(test_images[test_index * 4: (test_index + 1) * 4]):\n",
    "    axes[i].imshow(image, cmap=plt.cm.gray_r)\n",
    "    axes[i].axis('off')\n",
    "plt.show()"
   ]
  },
  {
   "cell_type": "code",
   "execution_count": null,
   "id": "0d42075e-c76e-4236-82ac-c2da9401b59e",
   "metadata": {},
   "outputs": [],
   "source": []
  },
  {
   "cell_type": "code",
   "execution_count": null,
   "id": "43ba98c2-61d9-48ce-afe1-c5af6865d312",
   "metadata": {},
   "outputs": [],
   "source": []
  }
 ],
 "metadata": {
  "kernelspec": {
   "display_name": "Python [conda env:base] *",
   "language": "python",
   "name": "conda-base-py"
  },
  "language_info": {
   "codemirror_mode": {
    "name": "ipython",
    "version": 3
   },
   "file_extension": ".py",
   "mimetype": "text/x-python",
   "name": "python",
   "nbconvert_exporter": "python",
   "pygments_lexer": "ipython3",
   "version": "3.12.7"
  }
 },
 "nbformat": 4,
 "nbformat_minor": 5
}
